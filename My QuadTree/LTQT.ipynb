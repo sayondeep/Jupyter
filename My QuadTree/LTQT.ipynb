{
 "cells": [
  {
   "cell_type": "code",
   "execution_count": 3,
   "outputs": [],
   "source": [
    "# Quad Node class structure\n",
    "class QuadNode:\n",
    "    def __init__(self, _val=0, _isLeaf=False):\n",
    "        self.value = _val\n",
    "        self.isLeaf = _isLeaf\n",
    "        self.topLeft = None\n",
    "        self.topRight = None\n",
    "        self.bottomLeft = None\n",
    "        self.bottomRight = None\n",
    "\n"
   ],
   "metadata": {
    "collapsed": false,
    "pycharm": {
     "name": "#%%\n"
    }
   }
  },
  {
   "cell_type": "code",
   "execution_count": 4,
   "outputs": [],
   "source": [
    "# Function to construct the QuadTree.\n",
    "def helper(matrix, x, y, size):\n",
    "    # Leaf Node.\n",
    "    if (size == 1):\n",
    "        return QuadNode(matrix[x][y], True)\n",
    "\n",
    "    currentNode = QuadNode()\n",
    "\n",
    "    # Recurse in all four directions.\n",
    "    topLeft = helper(matrix, x, y, size // 2)\n",
    "    topRight = helper(matrix, x, y + size // 2, size // 2)\n",
    "    bottomLeft = helper(matrix, x + size // 2, y, size // 2)\n",
    "    bottomRight = helper(matrix, x + size // 2, y + size // 2, size // 2)\n",
    "\n",
    "    # Leaf Node.\n",
    "    if (topLeft.isLeaf == True and topRight.isLeaf == True\n",
    "            and bottomLeft.isLeaf == True and bottomRight.isLeaf == True\n",
    "            and topLeft.value == topRight.value\n",
    "            and topRight.value == bottomLeft.value\n",
    "            and bottomLeft.value == bottomRight.value):\n",
    "        currentNode.isLeaf = True\n",
    "        currentNode.value = topLeft.value\n",
    "    else:\n",
    "        # Connect all four childrens to currentNode.\n",
    "        currentNode.topLeft = topLeft\n",
    "        currentNode.topRight = topRight\n",
    "        currentNode.bottomLeft = bottomLeft\n",
    "        currentNode.bottomRight = bottomRight\n",
    "        currentNode.isLeaf = False\n",
    "        currentNode.value = -1\n",
    "\n",
    "    # Return the currentNode.\n",
    "    return currentNode\n",
    "\n",
    "\n"
   ],
   "metadata": {
    "collapsed": false,
    "pycharm": {
     "name": "#%%\n"
    }
   }
  },
  {
   "cell_type": "code",
   "execution_count": 6,
   "outputs": [],
   "source": [
    "def constructQuadTree(matrix):\n",
    "    return helper(matrix, 0, 0, len(matrix))"
   ],
   "metadata": {
    "collapsed": false,
    "pycharm": {
     "name": "#%%\n"
    }
   }
  },
  {
   "cell_type": "code",
   "execution_count": null,
   "outputs": [],
   "source": [],
   "metadata": {
    "collapsed": false,
    "pycharm": {
     "name": "#%%\n"
    }
   }
  }
 ],
 "metadata": {
  "kernelspec": {
   "display_name": "Python 3",
   "language": "python",
   "name": "python3"
  },
  "language_info": {
   "codemirror_mode": {
    "name": "ipython",
    "version": 2
   },
   "file_extension": ".py",
   "mimetype": "text/x-python",
   "name": "python",
   "nbconvert_exporter": "python",
   "pygments_lexer": "ipython2",
   "version": "2.7.6"
  }
 },
 "nbformat": 4,
 "nbformat_minor": 0
}