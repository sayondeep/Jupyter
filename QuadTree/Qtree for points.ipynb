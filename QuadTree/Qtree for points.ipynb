{
 "cells": [
  {
   "cell_type": "code",
   "execution_count": 75,
   "outputs": [],
   "source": [
    "class Point():\n",
    "    def __init__(self, x, y):\n",
    "        self.x = x\n",
    "        self.y = y"
   ],
   "metadata": {
    "collapsed": false,
    "pycharm": {
     "name": "#%%\n"
    }
   }
  },
  {
   "cell_type": "code",
   "execution_count": 76,
   "outputs": [],
   "source": [
    "class Node():\n",
    "    def __init__(self, x0, y0, w, h, points):\n",
    "        self.x0 = x0\n",
    "        self.y0 = y0\n",
    "        self.width = w\n",
    "        self.height = h\n",
    "        self.points = points\n",
    "        self.children = []\n",
    "\n",
    "    def get_width(self):\n",
    "        return self.width\n",
    "\n",
    "    def get_height(self):\n",
    "        return self.height\n",
    "\n",
    "    def get_points(self):\n",
    "        return self.points"
   ],
   "metadata": {
    "collapsed": false,
    "pycharm": {
     "name": "#%%\n"
    }
   }
  },
  {
   "cell_type": "code",
   "execution_count": 77,
   "outputs": [],
   "source": [
    "def recursive_subdivide(node, k):\n",
    "    if len(node.points)<=k:\n",
    "        return\n",
    "\n",
    "    w_ = float(node.width/2)\n",
    "    h_ = float(node.height/2)\n",
    "\n",
    "    p = contains(node.x0, node.y0, w_, h_, node.points)\n",
    "    x1 = Node(node.x0, node.y0, w_, h_, p)\n",
    "    recursive_subdivide(x1, k)\n",
    "\n",
    "    p = contains(node.x0, node.y0+h_, w_, h_, node.points)\n",
    "    x2 = Node(node.x0, node.y0+h_, w_, h_, p)\n",
    "    recursive_subdivide(x2, k)\n",
    "\n",
    "    p = contains(node.x0+w_, node.y0, w_, h_, node.points)\n",
    "    x3 = Node(node.x0 + w_, node.y0, w_, h_, p)\n",
    "    recursive_subdivide(x3, k)\n",
    "\n",
    "    p = contains(node.x0+w_, node.y0+h_, w_, h_, node.points)\n",
    "    x4 = Node(node.x0+w_, node.y0+h_, w_, h_, p)\n",
    "    recursive_subdivide(x4, k)\n",
    "\n",
    "    node.children = [x1, x2, x3, x4]\n",
    "\n",
    "\n",
    "def contains(x, y, w, h, points):\n",
    "    pts = []\n",
    "    for point in points:\n",
    "        if point.x >= x and point.x <= x+w and point.y>=y and point.y<=y+h:\n",
    "            pts.append(point)\n",
    "    return pts\n",
    "\n",
    "\n",
    "def find_children(node):\n",
    "    if not node.children:\n",
    "        return [node]\n",
    "    else:\n",
    "        children = []\n",
    "        for child in node.children:\n",
    "            children += (find_children(child))\n",
    "    return children"
   ],
   "metadata": {
    "collapsed": false,
    "pycharm": {
     "name": "#%%\n"
    }
   }
  },
  {
   "cell_type": "code",
   "execution_count": 78,
   "outputs": [],
   "source": [
    "import random\n",
    "import matplotlib.pyplot as plt # plotting libraries\n",
    "import matplotlib.patches as patches"
   ],
   "metadata": {
    "collapsed": false,
    "pycharm": {
     "name": "#%%\n"
    }
   }
  },
  {
   "cell_type": "code",
   "execution_count": 79,
   "outputs": [],
   "source": [
    "class QTree():\n",
    "    def __init__(self, k, n):\n",
    "        self.threshold = k\n",
    "        self.points = [Point(random.uniform(0, 10), random.uniform(0, 10)) for x in range(n)]\n",
    "        self.root = Node(0, 0, 10, 10, self.points)\n",
    "\n",
    "    def add_point(self, x, y):\n",
    "        self.points.append(Point(x, y))\n",
    "\n",
    "    def get_points(self):\n",
    "        return self.points\n",
    "\n",
    "    def subdivide(self):\n",
    "        recursive_subdivide(self.root, self.threshold)\n",
    "\n",
    "    def graph(self):\n",
    "        fig = plt.figure(figsize=(12, 8))\n",
    "        plt.title(\"Quadtree\")\n",
    "        c = find_children(self.root)\n",
    "        print(\"Number of segments: %d\" %len(c))\n",
    "        areas = set()\n",
    "        for el in c:\n",
    "            areas.add(el.width*el.height)\n",
    "        print(\"Minimum segment area: %.3f units\" %min(areas))\n",
    "        for n in c:\n",
    "            plt.gcf().gca().add_patch(patches.Rectangle((n.x0, n.y0), n.width, n.height, fill=False))\n",
    "        x = [point.x for point in self.points]\n",
    "        y = [point.y for point in self.points]\n",
    "        plt.plot(x, y, 'ro') # plots the points as red dots\n",
    "        plt.show()\n",
    "        return"
   ],
   "metadata": {
    "collapsed": false,
    "pycharm": {
     "name": "#%%\n"
    }
   }
  },
  {
   "cell_type": "code",
   "execution_count": 80,
   "outputs": [
    {
     "name": "stdout",
     "output_type": "stream",
     "text": [
      "Number of segments: 19\n",
      "Minimum segment area: 1.562 units\n"
     ]
    },
    {
     "data": {
      "text/plain": "<Figure size 864x576 with 1 Axes>",
      "image/png": "[encoded data removed]"
     },
     "metadata": {
      "needs_background": "light"
     },
     "output_type": "display_data"
    },
    {
     "name": "stdout",
     "output_type": "stream",
     "text": [
      "Number of segments: 1\n",
      "Minimum segment area: 100.000 units\n"
     ]
    },
    {
     "data": {
      "text/plain": "<Figure size 864x576 with 1 Axes>",
      "image/png": "[encoded data removed]"
     },
     "metadata": {
      "needs_background": "light"
     },
     "output_type": "display_data"
    }
   ],
   "source": [
    "qtTemp = QTree(4, 40)  #contrast threshold, min cell size, img\n",
    "qtTemp.subdivide() # recursively generates quad tree\n",
    "qtTemp.graph()\n",
    "\n",
    "qtTemp2 = QTree(9, 5)\n",
    "qtTemp2.subdivide()\n",
    "qtTemp2.graph()"
   ],
   "metadata": {
    "collapsed": false,
    "pycharm": {
     "name": "#%%\n"
    }
   }
  },
  {
   "cell_type": "code",
   "execution_count": 80,
   "outputs": [],
   "source": [],
   "metadata": {
    "collapsed": false,
    "pycharm": {
     "name": "#%%\n"
    }
   }
  }
 ],
 "metadata": {
  "kernelspec": {
   "display_name": "Python 3",
   "language": "python",
   "name": "python3"
  },
  "language_info": {
   "codemirror_mode": {
    "name": "ipython",
    "version": 2
   },
   "file_extension": ".py",
   "mimetype": "text/x-python",
   "name": "python",
   "nbconvert_exporter": "python",
   "pygments_lexer": "ipython2",
   "version": "2.7.6"
  }
 },
 "nbformat": 4,
 "nbformat_minor": 0
}