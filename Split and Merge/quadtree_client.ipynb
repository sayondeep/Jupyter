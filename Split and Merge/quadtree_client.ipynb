{
 "cells": [
  {
   "cell_type": "code",
   "execution_count": 21,
   "outputs": [],
   "source": [
    "import matplotlib.pyplot as plt\n",
    "import matplotlib.image as mpimg\n",
    "import numpy as np\n",
    "import cv2\n",
    "#\n",
    "# img = mpimg.imread('road.jpg')\n",
    "# cropped_array = img[20:img.shape[0]-20, 20:img.shape[1]-20, :]\n",
    "# padded_array = np.pad(cropped_array, ((20, 20), (20, 20), (0, 0)))\n",
    "# # padded_array=padded_array[...,::-1]\n",
    "# # plt.imshow(cv2.cvtColor(padded_array, cv2.COLOR_BGR2RGB))\n",
    "# plt.imshow(padded_array)\n",
    "# plt.show()\n",
    "# print(img.shape)\n",
    "# print(padded_array.shape)\n",
    "# print(img.astype)"
   ],
   "metadata": {
    "collapsed": false,
    "pycharm": {
     "name": "#%%\n"
    }
   }
  },
  {
   "cell_type": "code",
   "execution_count": 22,
   "outputs": [],
   "source": [
    "def border(img):\n",
    "    x=1\n",
    "    cropped_array = img[x:img.shape[0]-x, x:img.shape[1]-x, :]\n",
    "    return np.pad(cropped_array, ((x, x), (x, x), (0, 0)))"
   ],
   "metadata": {
    "collapsed": false,
    "pycharm": {
     "name": "#%%\n"
    }
   }
  },
  {
   "cell_type": "code",
   "execution_count": 23,
   "outputs": [],
   "source": [
    "from operator import add\n",
    "from functools import reduce\n",
    "\n",
    "def split4(image):\n",
    "    half_split = np.array_split(image, 2)\n",
    "    print(half_split[0].shape)\n",
    "    res = map(lambda x: np.array_split(x, 2, axis=1), half_split)\n",
    "    print(res)\n",
    "    return reduce(add, res)"
   ],
   "metadata": {
    "collapsed": false,
    "pycharm": {
     "name": "#%%\n"
    }
   }
  },
  {
   "cell_type": "code",
   "execution_count": 24,
   "outputs": [],
   "source": [
    "def calculate_mean(img):\n",
    "    return np.mean(img, axis=(0, 1))"
   ],
   "metadata": {
    "collapsed": false,
    "pycharm": {
     "name": "#%%\n"
    }
   }
  },
  {
   "cell_type": "code",
   "execution_count": 25,
   "outputs": [],
   "source": [
    "def concatenate4(north_west, north_east, south_west, south_east):\n",
    "    top = np.concatenate((north_west, north_east), axis=1)\n",
    "    bottom = np.concatenate((south_west, south_east), axis=1)\n",
    "    return np.concatenate((top, bottom), axis=0)"
   ],
   "metadata": {
    "collapsed": false,
    "pycharm": {
     "name": "#%%\n"
    }
   }
  },
  {
   "cell_type": "code",
   "execution_count": 26,
   "outputs": [],
   "source": [
    "def split(array, nrows, ncols):\n",
    "    \"\"\"Split a matrix into sub-matrices.\"\"\"\n",
    "\n",
    "    r, h = array.shape\n",
    "    return (array.reshape(h//nrows, nrows, -1, ncols)\n",
    "            .swapaxes(1, 2)\n",
    "            .reshape(-1, nrows, ncols))"
   ],
   "metadata": {
    "collapsed": false,
    "pycharm": {
     "name": "#%%\n"
    }
   }
  },
  {
   "cell_type": "code",
   "execution_count": 27,
   "outputs": [],
   "source": [
    "def checkEqual(myList):\n",
    "    first=myList[0]\n",
    "    return all((x==first).all() for x in myList)\n",
    "\n",
    "class QuadTree:\n",
    "\n",
    "    def insert(self, img,matrix,level = 0):\n",
    "        self.level = level\n",
    "        #self.mean = calculate_mean(img).astype(int)\n",
    "        #self.resolution = (img.shape[0], img.shape[1])\n",
    "        self.img=img\n",
    "        self.final = True\n",
    "\n",
    "        if not checkEqual(matrix):\n",
    "            split_img = split4(img)\n",
    "\n",
    "            self.final = False\n",
    "\n",
    "            n_w, n_e, s_w, s_e =  split(matrix, matrix.shape[0]//2, matrix.shape[1]//2)\n",
    "\n",
    "            self.north_west = QuadTree().insert(split_img[0],n_w, level + 1)\n",
    "            self.north_east = QuadTree().insert(split_img[1],n_e, level + 1)\n",
    "            self.south_west = QuadTree().insert(split_img[2],s_w, level + 1)\n",
    "            self.south_east = QuadTree().insert(split_img[3],s_e, level + 1)\n",
    "\n",
    "        return self\n",
    "\n",
    "    def get_image(self, level):\n",
    "        if(self.final or self.level == level):\n",
    "            #return np.tile(self.mean, (self.resolution[0], self.resolution[1], 1))\n",
    "            # plt.imshow(self.img)\n",
    "            # plt.show()\n",
    "            return border(self.img)\n",
    "\n",
    "        return concatenate4(\n",
    "            self.north_west.get_image(level),\n",
    "            self.north_east.get_image(level),\n",
    "            self.south_west.get_image(level),\n",
    "            self.south_east.get_image(level))\n",
    "\n",
    "\n",
    "    # def update_image(self, level):\n",
    "    #     if(self.final or self.level == level):\n",
    "    #         return np.tile(self.mean, (self.resolution[0], self.resolution[1], 1))\n",
    "    #         # plt.imshow(self.img)\n",
    "    #         # plt.show()\n",
    "    #         # return border(self.img)"
   ],
   "metadata": {
    "collapsed": false,
    "pycharm": {
     "name": "#%%\n"
    }
   }
  },
  {
   "cell_type": "code",
   "execution_count": 28,
   "outputs": [],
   "source": [
    "# matrix = np.random.randint(2, size=(16,16))\n",
    "# # matrix = np.random.randint(2, size=(img.shape[0], img.shape[1]))\n",
    "# matrix = []\n",
    "#\n",
    "# with open (\"input.txt\", \"r\") as myfile:\n",
    "#     data = myfile.read().splitlines()\n",
    "# # print(text)\n",
    "# for line in data:\n",
    "#     # print(text)\n",
    "#     list_of_ints = list(map(int, line))\n",
    "#     matrix.append(list_of_ints)\n",
    "# # with open('input.txt', 'r') as f:\n",
    "# #     lines = f.split(\"\\n\")\n",
    "# #     for line in lines:\n",
    "# #         # line = f.read().splitlines()\n",
    "# #         print(line)\n",
    "# #         print(type(line))\n",
    "# #         # list_of_ints = list(map(int, line))\n",
    "# #         list_of_ints = [int(x) for x in line]\n",
    "# #         # print(list_of_ints)\n",
    "# #         # matrix.append(list_of_ints)\n",
    "#\n",
    "# matrix = np.array(matrix)\n",
    "# # # # print(input)\n",
    "# print(matrix)\n",
    "# print(matrix.shape)\n"
   ],
   "metadata": {
    "collapsed": false,
    "pycharm": {
     "name": "#%%\n"
    }
   }
  },
  {
   "cell_type": "code",
   "execution_count": 29,
   "outputs": [],
   "source": [
    "# quadtree = QuadTree().insert(img,matrix)\n",
    "# plt.imshow(quadtree.get_image(5))\n",
    "# plt.show()\n",
    "# plt.imshow(quadtree.get_image(3))\n",
    "# plt.show()\n",
    "# plt.imshow(quadtree.get_image(7))\n",
    "# plt.show()\n",
    "# plt.imshow(quadtree.get_image(10))\n",
    "# plt.show()"
   ],
   "metadata": {
    "collapsed": false,
    "pycharm": {
     "name": "#%%\n"
    }
   }
  },
  {
   "cell_type": "code",
   "execution_count": 30,
   "outputs": [
    {
     "name": "stdout",
     "output_type": "stream",
     "text": [
      "new message length: b'2281528   '\n"
     ]
    },
    {
     "name": "stderr",
     "output_type": "stream",
     "text": [
      "IOPub data rate exceeded.\n",
      "The notebook server will temporarily stop sending output\n",
      "to the client in order to avoid crashing it.\n",
      "To change this limit, set the config variable\n",
      "`--NotebookApp.iopub_data_rate_limit`.\n",
      "\n",
      "Current values:\n",
      "NotebookApp.iopub_data_rate_limit=1000000.0 (bytes/sec)\n",
      "NotebookApp.rate_limit_window=3.0 (secs)\n",
      "\n"
     ]
    }
   ],
   "source": [
    "import socket\n",
    "import pickle\n",
    "\n",
    "\n",
    "HEADERSIZE= 10\n",
    "s = socket.socket(socket.AF_INET, socket.SOCK_STREAM)\n",
    "s.connect((socket.gethostname(), 1234))\n",
    "# msg = s.recv(8)\n",
    "# print(msg.decode(\"utf-8\"))\n",
    "\n",
    "# while True:\n",
    "#     msg = s.recv(8)\n",
    "#     print(msg.decode(\"utf-8\"))\n",
    "\n",
    "full_msg = b''\n",
    "new_msg=True\n",
    "msg = s.recv(2048)\n",
    "if new_msg:\n",
    "        print(f'new message length: {msg[:HEADERSIZE]}')\n",
    "        msglen = int(msg[:HEADERSIZE])\n",
    "        new_msg = False\n",
    "\n",
    "full_msg += msg\n",
    "while len(full_msg)-HEADERSIZE<msglen:\n",
    "    msg = s.recv(2048)\n",
    "#     if new_msg:\n",
    "#         print(f'new message length: {msg[:HEADERSIZE]}')\n",
    "#         msglen = int(msg[:HEADERSIZE])\n",
    "#         new_msg = False\n",
    "\n",
    "    full_msg += msg\n",
    "\n",
    "    if(len(full_msg)-HEADERSIZE==msglen):\n",
    "        print('full message recvd')\n",
    "        print(full_msg[HEADERSIZE:])\n",
    "        d = pickle.loads(full_msg[HEADERSIZE:])\n",
    "        print(type(d))\n",
    "#         new_msg = True\n",
    "        full_msg=b''\n",
    "        break\n",
    "\n",
    "# print(full_msg)\n",
    "\n",
    "\n"
   ],
   "metadata": {
    "collapsed": false,
    "pycharm": {
     "name": "#%%\n"
    }
   }
  },
  {
   "cell_type": "code",
   "execution_count": 35,
   "outputs": [
    {
     "data": {
      "text/plain": "<Figure size 432x288 with 1 Axes>",
      "image/png": "[encoded data removed]"
     },
     "metadata": {
      "needs_background": "light"
     },
     "output_type": "display_data"
    }
   ],
   "source": [
    "quadtree=d\n",
    "plt.imshow(quadtree.get_image(3))\n",
    "plt.show()"
   ],
   "metadata": {
    "collapsed": false,
    "pycharm": {
     "name": "#%%\n"
    }
   }
  },
  {
   "cell_type": "code",
   "execution_count": 32,
   "metadata": {
    "pycharm": {
     "name": "#%%\n"
    }
   },
   "outputs": [],
   "source": [
    "# print(quadtree)"
   ]
  },
  {
   "cell_type": "code",
   "execution_count": 32,
   "metadata": {
    "pycharm": {
     "name": "#%%\n"
    }
   },
   "outputs": [],
   "source": []
  }
 ],
 "metadata": {
  "kernelspec": {
   "display_name": "Python 3 (ipykernel)",
   "language": "python",
   "name": "python3"
  },
  "language_info": {
   "codemirror_mode": {
    "name": "ipython",
    "version": 3
   },
   "file_extension": ".py",
   "mimetype": "text/x-python",
   "name": "python",
   "nbconvert_exporter": "python",
   "pygments_lexer": "ipython3",
   "version": "3.9.10"
  }
 },
 "nbformat": 4,
 "nbformat_minor": 1
}